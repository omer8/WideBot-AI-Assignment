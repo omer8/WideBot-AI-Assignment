{
  "nbformat": 4,
  "nbformat_minor": 0,
  "metadata": {
    "colab": {
      "provenance": []
    },
    "kernelspec": {
      "name": "python3",
      "display_name": "Python 3"
    },
    "language_info": {
      "name": "python"
    }
  },
  "cells": [
    {
      "cell_type": "code",
      "source": [
        "#read dictionary file\n",
        "with open('/content/dictionary.txt', \"rb\") as f:\n",
        "    dicts = f.readlines()\n",
        "dicts = [w.decode('ISO-8859-1').strip() for w in dicts]"
      ],
      "metadata": {
        "id": "LgrxTxn70Du_"
      },
      "execution_count": 1,
      "outputs": []
    },
    {
      "cell_type": "code",
      "execution_count": 2,
      "metadata": {
        "id": "V9lYzDzayxJF"
      },
      "outputs": [],
      "source": [
        "# Structure of a Trie node\n",
        "class TrieNode:\n",
        "\tdef __init__(self):\n",
        "\n",
        "\t\t# Store address of a character\n",
        "\t\tself.trie = [None] * 256\n",
        "\t\t# Check if the character is last character of a string or not\n",
        "\t\tself.isEnd = False\n",
        "\n",
        "# Function to insert a string into Trie\n",
        "def insert_trie(root, s):\n",
        "\ttemp = root\n",
        "\t# Traverse the string, s\n",
        "\tfor i in range(len(s)):\n",
        "\t\tif not temp.trie[ord(s[i])]:\n",
        "\t\t\t# Initialize a node\n",
        "\t\t\ttemp.trie[ord(s[i])] = TrieNode()\n",
        "\t\t# Update temp\n",
        "\t\ttemp = temp.trie[ord(s[i])]\n",
        "\t# Mark the last character of the string to true\n",
        "\ttemp.isEnd = True\n",
        "\n",
        "# Function to print suggestions of the string\n",
        "def print_suggestions(root, res):\n",
        "\t# If current character is the last character of a string\n",
        "\tif root.isEnd:\n",
        "\t\tprint(res,end=\" \")\n",
        "\n",
        "\t# Iterate over all possible characters of the string\n",
        "\tfor i in range(256):\n",
        "\t\t# If current character present in the Trie\n",
        "\t\tif root.trie[i]:\n",
        "\t\t\t# Insert current character into Trie\n",
        "\t\t\tres_list = list(res)\n",
        "\t\t\tres_list.append(chr(i))\n",
        "\t\t\tprint_suggestions(root.trie[i], \"\".join(res_list))\n",
        "\n",
        "# Function to check if the string is present in Trie or not\n",
        "def check_present(root, key):\n",
        "\t# Traverse the string\n",
        "\tfor i in range(len(key)):\n",
        "\t\t# If current character not present in the Trie\n",
        "\n",
        "\t\tif not root.trie[ord(key[i])]:\n",
        "\t\t\tprint_suggestions(root, key[:i])\n",
        "\t\t\treturn False\n",
        "\t\t# Update root\n",
        "\t\troot = root.trie[ord(key[i])]\n",
        "\tif root.isEnd:\n",
        "\t\treturn True\n",
        "\tprint_suggestions(root, key)\n",
        "\treturn False\n",
        "\n",
        "# Function to insert a new word into dict\n",
        "def insert_dict(newword):\n",
        "\timport bisect\n",
        "\t#check if word exist in dicts\n",
        "\tif newword not in dicts:\n",
        "\t\t#add word in appropriate place in dicts from left\n",
        "\t\tdicts[bisect.bisect_left(dicts,newword)] = newword"
      ]
    },
    {
      "cell_type": "code",
      "source": [
        "#1 Store this dictionary in a suitable data structure.\n",
        "## Time Complexity: O(N * M), where M is the maximum length of the string\n",
        "## space complexity: O(N * 256)\n",
        "\n",
        "import timeit\n",
        "start = timeit.default_timer()\n",
        "\n",
        "## Initialize a Trie\n",
        "root = TrieNode()\n",
        "## Insert words to trie\n",
        "for s in dicts:\n",
        "\tinsert_trie(root, s)\n",
        "\n",
        "print(\"The time taken is \",timeit.default_timer() - start)"
      ],
      "metadata": {
        "colab": {
          "base_uri": "https://localhost:8080/"
        },
        "id": "QXoDaaDw4uOr",
        "outputId": "cb29bf97-e184-497f-a966-69f38c7d0220"
      },
      "execution_count": 3,
      "outputs": [
        {
          "output_type": "stream",
          "name": "stdout",
          "text": [
            "The time taken is  2.4329685670000174\n"
          ]
        }
      ]
    },
    {
      "cell_type": "code",
      "source": [
        "#2 Take an input word and return the nearest 4 words if this word is not in the dictionary\n",
        "## Time Complexity: O(L) where L is length of word\n",
        "## space complexity: O(1)\n",
        "\n",
        "inp = input().lower()\n",
        "start = timeit.default_timer()\n",
        "##return the nearest words\n",
        "if check_present(root, inp):\n",
        "\tprint(inp)\n",
        "\n",
        "print(\"\\nThe time taken is {}\".format(timeit.default_timer() - start))"
      ],
      "metadata": {
        "id": "Vw2DFqT4eRdr",
        "colab": {
          "base_uri": "https://localhost:8080/"
        },
        "outputId": "764c2d32-bbb2-4ab1-84a0-6c62d1d4cac5"
      },
      "execution_count": 4,
      "outputs": [
        {
          "output_type": "stream",
          "name": "stdout",
          "text": [
            "nowd\n",
            "now nowadays nowhere nowise \n",
            "The time taken is 0.0027623809999965943\n"
          ]
        }
      ]
    },
    {
      "cell_type": "code",
      "source": [
        "#3 Take an input word and add this word to the dictionary\n",
        "## Time Complexity:  O(L) where L is length of word\n",
        "## space complexity: O(L) where L is length of word\n",
        "\n",
        "inp = input().lower()\n",
        "start = timeit.default_timer()\n",
        "##insert word\n",
        "insert_dict(inp)\n",
        "\n",
        "print(\"The time taken is {}\".format(timeit.default_timer() - start))"
      ],
      "metadata": {
        "colab": {
          "base_uri": "https://localhost:8080/"
        },
        "id": "qtMv6d1Q8wW_",
        "outputId": "db553a7d-afe6-4557-c502-2be40434a1c9"
      },
      "execution_count": 5,
      "outputs": [
        {
          "output_type": "stream",
          "name": "stdout",
          "text": [
            "aaaa\n",
            "The time taken is 0.002031079999994745\n"
          ]
        }
      ]
    }
  ]
}